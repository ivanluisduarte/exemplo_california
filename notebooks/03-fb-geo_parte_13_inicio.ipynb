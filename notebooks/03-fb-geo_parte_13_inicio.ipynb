{
 "cells": [
  {
   "cell_type": "markdown",
   "metadata": {},
   "source": [
    "# Dados cartográficos com Python"
   ]
  },
  {
   "cell_type": "markdown",
   "metadata": {},
   "source": [
    "## GeoPandas"
   ]
  },
  {
   "cell_type": "markdown",
   "metadata": {},
   "source": [
    "GeoPandas é uma biblioteca do Python que estende as funcionalidades do Pandas, permitindo que se trabalhe de maneira eficiente com dados geoespaciais. Ela é construída sobre outras bibliotecas populares como Shapely, Fiona e Pyproj, o que lhe permite manipular, analisar e visualizar dados geoespaciais de forma integrada e simplificada.\n",
    "\n",
    "A principal característica do GeoPandas é a capacidade de lidar com geometrias (pontos, linhas, polígonos, etc.) em colunas especiais chamadas de `GeoSeries`. Essas geometrias podem ser usadas para representar entidades espaciais, como localizações geográficas, fronteiras de cidades, ou trajetórias. Cada linha de um `GeoDataFrame`—a versão geoespacial do `DataFrame` no Pandas—pode conter uma geometria associada a outros atributos, permitindo que se façam análises espaciais sobre os dados.\n",
    "\n",
    "Com o GeoPandas, tarefas comuns em análise geoespacial, como a leitura de arquivos shapefile, a re-projeção de sistemas de coordenadas e operações espaciais (interseção, união, diferenciação) tornam-se muito mais fáceis. A biblioteca é amplamente usada em aplicações que envolvem geoprocessamento, cartografia e estudos de geografia.\n",
    "\n",
    "GeoPandas também se integra bem com bibliotecas de visualização como Matplotlib, facilitando a criação de mapas e gráficos baseados em dados espaciais. Ela é amplamente usada em estudos ambientais, urbanos, logísticos e em qualquer área que necessite de análise espacial eficiente."
   ]
  },
  {
   "cell_type": "markdown",
   "metadata": {},
   "source": [
    "https://geopandas.org/en/stable/index.html"
   ]
  },
  {
   "cell_type": "markdown",
   "metadata": {},
   "source": [
    "## Folium"
   ]
  },
  {
   "cell_type": "markdown",
   "metadata": {},
   "source": [
    "Folium é uma biblioteca do Python voltada para a criação de mapas interativos utilizando Leaflet.js, uma popular biblioteca JavaScript de mapeamento. O Folium permite que se criem mapas ricos e dinâmicos diretamente em Python, integrando dados geoespaciais de maneira simples e intuitiva.\n",
    "\n",
    "Uma das principais vantagens do Folium é a facilidade com que ele transforma dados geoespaciais, como pontos de interesse, trajetos ou áreas geográficas, em visualizações interativas. Ele suporta uma ampla gama de camadas, como marcadores, polígonos, retângulos e círculos, que podem ser facilmente sobrepostos em diferentes tipos de mapas base, como mapas de ruas ou satélites. Além disso, a biblioteca permite adicionar informações complementares por meio de popups e tooltips, o que facilita a apresentação de dados complexos de forma clara e acessível.\n",
    "\n",
    "Folium é frequentemente utilizado em projetos que requerem visualizações de dados espaciais interativas, como análise de trajetórias, planejamento urbano, monitoramento ambiental e estudos logísticos. Sua integração com outras bibliotecas como Pandas e GeoPandas permite manipular dados e criar mapas de forma eficiente. A biblioteca também facilita a exportação dos mapas para HTML, o que é útil para incorporá-los em sites ou relatórios interativos.\n",
    "\n",
    "De maneira geral, Folium oferece uma solução para transformar dados geoespaciais em mapas interativos, sendo uma escolha popular tanto em análises exploratórias quanto na apresentação final de resultados."
   ]
  },
  {
   "cell_type": "markdown",
   "metadata": {},
   "source": [
    "https://python-visualization.github.io/folium/latest/#"
   ]
  },
  {
   "cell_type": "code",
   "execution_count": null,
   "metadata": {
    "metadata": {}
   },
   "outputs": [],
   "source": [
    "import folium\n",
    "import geopandas as gpd\n",
    "import json\n",
    "import matplotlib.pyplot as plt\n",
    "import pandas as pd\n",
    "import seaborn as sns\n",
    "\n",
    "from folium import plugins\n",
    "from shapely.geometry import Point\n",
    "\n",
    "from src.config import DADOS_LIMPOS, DADOS_GEO_MEDIAN, DADOS_GEO_ORIGINAIS\n",
    "from src.graficos import PALETTE, SCATTER_ALPHA\n",
    "\n",
    "sns.set_theme(style=\"white\", palette=\"bright\")"
   ]
  },
  {
   "cell_type": "code",
   "execution_count": null,
   "metadata": {
    "metadata": {}
   },
   "outputs": [],
   "source": [
    "df = pd.read_parquet(DADOS_LIMPOS)\n",
    "\n",
    "df.head()"
   ]
  },
  {
   "cell_type": "code",
   "execution_count": null,
   "metadata": {
    "metadata": {}
   },
   "outputs": [],
   "source": [
    "df.info()"
   ]
  },
  {
   "cell_type": "markdown",
   "metadata": {},
   "source": [
    "O melhor termo para traduzir **\"county\"** seria **\"condado\"**. Embora o Brasil não tenha uma divisão administrativa exata equivalente aos condados dos Estados Unidos, \"condado\" é uma tradução apropriada e amplamente compreendida.\n",
    "\n",
    "Nos EUA, os **counties** (condados) são subdivisões dos estados, com certa autonomia administrativa, similar às regiões intermediárias entre estados e municípios no Brasil. No entanto, a melhor correspondência prática no Brasil, considerando a divisão político-administrativa, seria com os **municípios**, que são as subdivisões administrativas dos estados brasileiros, apesar de suas diferenças em termos de autonomia e funções.\n"
   ]
  },
  {
   "cell_type": "code",
   "execution_count": null,
   "metadata": {},
   "outputs": [],
   "source": [
    "gdf_counties = gpd.read_file(DADOS_GEO_ORIGINAIS)\n",
    "\n",
    "gdf_counties.head()"
   ]
  },
  {
   "cell_type": "markdown",
   "metadata": {},
   "source": [
    "Em um arquivo GeoJSON, colunas como **\"abcode\"** e **\"ansi\"** contêm códigos padronizados que identificam de maneira única regiões geográficas, divisões administrativas ou entidades espaciais.\n",
    "\n",
    "A coluna **\"abcode\"** representa **códigos de fronteira administrativa** (Administrative Boundary Code). Esses códigos são usados para identificar divisões administrativas, como estados, condados, cidades ou outras subdivisões de um país. Dependendo do contexto, \"abcode\" pode estar relacionado a códigos nacionais ou internacionais de áreas administrativas.\n",
    "\n",
    "Por exemplo:\n",
    "- Nos Estados Unidos, o \"abcode\" pode se referir a códigos FIPS (Federal Information Processing Standards), usados para identificar estados e condados.\n",
    "- Em outros países, pode ser um código específico para uma província, estado ou outra divisão territorial.\n",
    "\n",
    "A coluna **\"ansi\"** refere-se aos códigos do **American National Standards Institute (ANSI)** (American National Standards Institute Code), usados nos Estados Unidos para identificar regiões geográficas. O ANSI substituiu os códigos FIPS em 2008 como padrão de identificação de entidades geográficas, como estados e condados.\n",
    "\n",
    "Por exemplo:\n",
    "- Nos EUA, cada estado e condado tem um **ANSI code** único que os identifica de forma oficial. Para estados, o ANSI code é o mesmo que o código FIPS (geralmente um número de 2 dígitos), e para condados, é um número de 5 dígitos.\n",
    "\n",
    "Assim: \n",
    "\n",
    "- **abcode**: Refere-se a um código de fronteira administrativa, usado para identificar divisões geográficas ou administrativas específicas, como estados, cidades ou condados.\n",
    "- **ansi**: Refere-se a códigos padronizados pelo ANSI, usados principalmente nos EUA para identificar estados e condados. Esses códigos são uma forma de identificar regiões geográficas de maneira única e padronizada."
   ]
  },
  {
   "cell_type": "markdown",
   "metadata": {},
   "source": [
    "### Sobre sistemas de referência"
   ]
  },
  {
   "cell_type": "markdown",
   "metadata": {},
   "source": [
    "Um Sistema de Referência de Coordenadas (CRS, do inglês *Coordinate Reference System*) é o conjunto de regras que define como os dados geoespaciais são projetados na superfície da Terra. Imagine o CRS como uma forma de \"tradução\" que nos ajuda a entender e posicionar os dados geográficos corretamente em um mapa. Cada ponto no mapa (como uma cidade, uma montanha ou uma estrada) tem coordenadas que dependem do CRS usado. Essas coordenadas podem ser expressas em diferentes sistemas, como latitudes e longitudes ou distâncias em metros.\n",
    "\n",
    "Por que isso é importante? Quando trabalhamos com dados geoespaciais, especialmente em formatos como GeoJSON, Shapefiles ou outros, o CRS nos diz como interpretar as coordenadas. Por exemplo, o sistema mais comum que você verá é o WGS 84 (EPSG:4326), que usa latitude e longitude para posicionar qualquer ponto na Terra. No entanto, em projetos locais ou regionais, outros sistemas de referência podem ser usados, que distorcem menos as áreas específicas.\n",
    "\n",
    "Quando você abre um arquivo GeoJSON ou outro tipo de dado geoespacial, muitas vezes verá algo como \"crs\": {\"type\": \"name\", \"properties\": {\"name\": \"EPSG:4326\"}}. Isso está simplesmente informando qual sistema está sendo usado para mapear as coordenadas no arquivo. Se diferentes arquivos estiverem em CRSs distintos, será necessário convertê-los para o mesmo sistema, ou eles não se alinharão corretamente quando visualizados juntos.\n"
   ]
  },
  {
   "cell_type": "markdown",
   "metadata": {},
   "source": [
    "\n",
    "**WGS 84** é um sistema geodésico global que define um modelo matemático para a forma da Terra. Ele inclui um elipsoide de referência (uma representação matemática da Terra), um sistema de coordenadas cartesianas (X, Y, Z) e um sistema de coordenadas geográficas (latitude, longitude e altura). Esse sistema é amplamente usado em GPS e outros sistemas de posicionamento global, sendo uma das referências mais comuns para medir e mapear a superfície da Terra.\n",
    "\n",
    "**EPSG:4326**, por outro lado, é o código de identificação que faz parte de uma base de dados chamada **EPSG Registry**, que contém descrições de vários sistemas de referência de coordenadas usados globalmente. O código **4326** se refere especificamente ao CRS que utiliza o **WGS 84** como sistema geodésico de base e expressa coordenadas em graus de latitude e longitude. Esse código é amplamente utilizado em formatos geoespaciais, como GeoJSON, para identificar que o sistema de coordenadas é o WGS 84.\n",
    "\n",
    "Então, podemos dizer que **WGS 84** é o sistema geodésico, e **EPSG:4326** é o código que referencia esse sistema específico dentro de um conjunto de padrões geoespaciais. Eles estão intimamente relacionados, pois EPSG:4326 usa WGS 84, mas o EPSG:4326 é apenas uma forma de identificar esse sistema em softwares e arquivos."
   ]
  },
  {
   "cell_type": "markdown",
   "metadata": {},
   "source": [
    "#### Relação com as projeções de mapas"
   ]
  },
  {
   "cell_type": "markdown",
   "metadata": {},
   "source": [
    "A Terra tem uma forma quase esférica (na verdade, ela é um esferoide oblato, ligeiramente achatada nos polos), mas os mapas são geralmente representações bidimensionais. Isso gera um desafio: como transformar a superfície curva da Terra em um mapa plano? É aí que entram as **projeções cartográficas**.\n",
    "\n",
    "**Projeção cartográfica** é o método utilizado para \"achatar\" a superfície da Terra em um plano, permitindo a criação de mapas. Cada projeção tenta preservar algumas características da Terra (como áreas, formas ou distâncias), mas sempre há algum tipo de distorção, já que é impossível representar uma superfície curva em um plano sem perdas.\n",
    "\n",
    "Agora, voltando ao **WGS 84** e **EPSG:4326**:\n",
    "\n",
    "- **WGS 84** é um sistema de referência global que define coordenadas em latitude e longitude, como mencionado antes, sem aplicar diretamente uma projeção cartográfica. Ou seja, ele usa um sistema geodésico para definir onde os pontos estão na superfície curva da Terra, sem \"achatar\" essa superfície em um mapa.\n",
    "\n",
    "- Quando usamos **EPSG:4326**, estamos trabalhando com coordenadas de latitude e longitude, mas sem projetar essas coordenadas em uma forma plana (ainda estamos no sistema esférico). Essa é uma das formas mais comuns de representar dados geoespaciais porque é universal e fácil de entender, mas não é exatamente uma projeção cartográfica.\n",
    "\n",
    "As projeções cartográficas que aprendemos na escola—como a **projeção de Mercator** (que distorce áreas perto dos polos), a **projeção de Peters** (que tenta preservar áreas), ou a **projeção azimutal** (que preserva direções a partir de um ponto central)—são formas de transformar as coordenadas da Terra em um plano. Dependendo da finalidade do mapa, uma projeção pode ser mais adequada que outra.\n",
    "\n",
    "Por exemplo:\n",
    "\n",
    "- A **projeção de Mercator** é útil para navegação porque preserva ângulos e direções, mas distorce o tamanho das regiões conforme se aproximam dos polos.\n",
    "- A **projeção de Peters** tenta representar as áreas de forma mais precisa, mas distorce as formas dos continentes.\n",
    "\n",
    "Quando usamos um CRS como o **EPSG:4326** (WGS 84), estamos basicamente posicionando pontos na superfície curva da Terra. Para \"achatar\" esses pontos em um mapa, muitas vezes usamos uma projeção cartográfica. Por exemplo, se quisermos criar um mapa que use uma projeção de Mercator, utilizamos outro CRS específico para essa projeção, como o **EPSG:3857**, que é a projeção de Mercator.\n",
    "\n",
    "Em resumo, os conceitos de sistemas de referência de coordenadas (CRS) e projeções cartográficas estão conectados. O CRS nos dá as coordenadas na superfície curva da Terra, e a projeção cartográfica define como essas coordenadas serão representadas em um mapa plano."
   ]
  },
  {
   "cell_type": "code",
   "execution_count": null,
   "metadata": {},
   "outputs": [],
   "source": [
    "df.head()"
   ]
  },
  {
   "cell_type": "code",
   "execution_count": null,
   "metadata": {},
   "outputs": [],
   "source": [
    "pontos = [Point(long, lat) for long, lat in zip(df[\"longitude\"], df[\"latitude\"])]\n",
    "\n",
    "pontos[:5]"
   ]
  },
  {
   "cell_type": "code",
   "execution_count": null,
   "metadata": {},
   "outputs": [],
   "source": [
    "gdf = gpd.GeoDataFrame(df, geometry=pontos)\n",
    "\n",
    "gdf.head()"
   ]
  },
  {
   "cell_type": "code",
   "execution_count": null,
   "metadata": {},
   "outputs": [],
   "source": [
    "gdf.info()"
   ]
  },
  {
   "cell_type": "code",
   "execution_count": null,
   "metadata": {},
   "outputs": [],
   "source": [
    "gdf.crs"
   ]
  },
  {
   "cell_type": "code",
   "execution_count": null,
   "metadata": {},
   "outputs": [],
   "source": [
    "gdf_counties.crs"
   ]
  },
  {
   "cell_type": "code",
   "execution_count": null,
   "metadata": {},
   "outputs": [],
   "source": [
    "gdf = gdf.set_crs(epsg=4326)\n",
    "\n",
    "gdf_counties = gdf_counties.to_crs(epsg=4326)"
   ]
  },
  {
   "cell_type": "code",
   "execution_count": null,
   "metadata": {},
   "outputs": [],
   "source": [
    "gdf.crs"
   ]
  },
  {
   "cell_type": "code",
   "execution_count": null,
   "metadata": {},
   "outputs": [],
   "source": [
    "gdf_counties.crs"
   ]
  },
  {
   "cell_type": "markdown",
   "metadata": {},
   "source": [
    "https://geopandas.org/en/stable/docs/user_guide/mergingdata.html#spatial-joins\n",
    "\n",
    "https://geopandas.org/en/stable/docs/reference/api/geopandas.sjoin.html"
   ]
  },
  {
   "cell_type": "code",
   "execution_count": null,
   "metadata": {},
   "outputs": [],
   "source": [
    "gdf_joined = gpd.sjoin(gdf, gdf_counties, how=\"left\", predicate=\"within\")\n",
    "\n",
    "gdf_joined.head()"
   ]
  },
  {
   "cell_type": "code",
   "execution_count": null,
   "metadata": {},
   "outputs": [],
   "source": [
    "gdf_joined.tail()"
   ]
  },
  {
   "cell_type": "code",
   "execution_count": null,
   "metadata": {},
   "outputs": [],
   "source": [
    "gdf_counties.iloc[12]"
   ]
  },
  {
   "cell_type": "code",
   "execution_count": null,
   "metadata": {},
   "outputs": [],
   "source": [
    "gdf_joined = gdf_joined.drop(\n",
    "    columns=[\"index_right\", \"fullname\", \"abcode\", \"ansi\"]\n",
    ")\n",
    "\n",
    "gdf_joined.head()"
   ]
  },
  {
   "cell_type": "code",
   "execution_count": null,
   "metadata": {},
   "outputs": [],
   "source": [
    "gdf_joined.info()"
   ]
  },
  {
   "cell_type": "code",
   "execution_count": null,
   "metadata": {},
   "outputs": [],
   "source": [
    "gdf_joined.isnull().sum()"
   ]
  },
  {
   "cell_type": "code",
   "execution_count": null,
   "metadata": {},
   "outputs": [],
   "source": [
    "gdf_joined[gdf_joined.isnull().any(axis=1)]"
   ]
  },
  {
   "cell_type": "code",
   "execution_count": null,
   "metadata": {},
   "outputs": [],
   "source": [
    "linhas_faltantes = gdf_joined[gdf_joined.isnull().any(axis=1)].index\n",
    "\n",
    "linhas_faltantes"
   ]
  },
  {
   "cell_type": "markdown",
   "metadata": {},
   "source": [
    "O **centroide** em dados geográficos é o ponto que representa o centro geométrico de uma forma ou área. Em termos simples, é o ponto médio de uma geometria, como um polígono ou multipolígono, que pode representar uma cidade, um estado ou qualquer outra divisão geográfica.\n",
    "\n",
    "No contexto do **GeoPandas**, o centroide é uma propriedade útil para resumir a localização de uma área. Por exemplo, se você tem o contorno de um município ou de uma região, o centroide é o ponto que melhor representa o \"centro\" dessa área, mesmo que sua forma seja irregular. O centroide é calculado considerando as coordenadas da geometria.\n",
    "\n",
    "No **GeoPandas**, você pode calcular o centroide de uma geometria utilizando o atributo `.centroid`. Isso gera um ponto, que pode ser usado para várias finalidades, como identificar o ponto central de uma área no mapa, fazer comparações de distâncias entre diferentes regiões, ou usá-lo em visualizações.\n",
    "\n",
    "Por exemplo, se você tem um conjunto de regiões geográficas e deseja identificar seus pontos centrais para colocar marcadores em um mapa, o centroide é ideal para essa finalidade.\n",
    "\n",
    "- Se você tem o contorno de um país ou estado, o centroide será o ponto mais central dessa área.\n",
    "- Mesmo para áreas irregulares, como fronteiras naturais ou regiões com formatos complexos, o centroide ainda é o ponto médio calculado geometricamente.\n"
   ]
  },
  {
   "cell_type": "code",
   "execution_count": null,
   "metadata": {},
   "outputs": [],
   "source": [
    "gdf_counties[\"centroid\"] = gdf_counties.centroid\n",
    "\n",
    "gdf_counties.head()"
   ]
  },
  {
   "cell_type": "code",
   "execution_count": null,
   "metadata": {},
   "outputs": [],
   "source": [
    "gdf_counties.shape"
   ]
  },
  {
   "cell_type": "code",
   "execution_count": null,
   "metadata": {},
   "outputs": [],
   "source": [
    "gdf_joined.loc[1507]"
   ]
  },
  {
   "cell_type": "code",
   "execution_count": null,
   "metadata": {},
   "outputs": [],
   "source": [
    "print(gdf_joined.loc[1507, \"geometry\"])"
   ]
  },
  {
   "cell_type": "code",
   "execution_count": null,
   "metadata": {},
   "outputs": [],
   "source": [
    "gdf_counties[\"centroid\"].distance(gdf_joined.loc[1507, \"geometry\"])"
   ]
  },
  {
   "cell_type": "code",
   "execution_count": null,
   "metadata": {},
   "outputs": [],
   "source": [
    "gdf_counties[\"centroid\"].distance(gdf_joined.loc[1507, \"geometry\"]).idxmin()"
   ]
  },
  {
   "cell_type": "code",
   "execution_count": null,
   "metadata": {},
   "outputs": [],
   "source": [
    "gdf_counties.loc[1]"
   ]
  },
  {
   "cell_type": "code",
   "execution_count": null,
   "metadata": {},
   "outputs": [],
   "source": [
    "def condado_mais_proximo(linha):\n",
    "    ponto = linha[\"geometry\"]\n",
    "    distancias = gdf_counties[\"centroid\"].distance(ponto)\n",
    "    idx_condado_mais_proximo = distancias.idxmin()\n",
    "    condado_mais_proximo = gdf_counties.loc[idx_condado_mais_proximo]\n",
    "    return condado_mais_proximo[[\"name\", \"abbrev\"]]"
   ]
  },
  {
   "cell_type": "code",
   "execution_count": null,
   "metadata": {},
   "outputs": [],
   "source": [
    "condado_mais_proximo(gdf_joined.loc[17232])"
   ]
  },
  {
   "cell_type": "code",
   "execution_count": null,
   "metadata": {},
   "outputs": [],
   "source": [
    "gdf_joined.loc[linhas_faltantes, [\"name\", \"abbrev\"]] = gdf_joined.loc[linhas_faltantes].apply(condado_mais_proximo, axis=1)"
   ]
  },
  {
   "cell_type": "code",
   "execution_count": null,
   "metadata": {},
   "outputs": [],
   "source": [
    "gdf_joined.isnull().sum()"
   ]
  },
  {
   "cell_type": "code",
   "execution_count": null,
   "metadata": {},
   "outputs": [],
   "source": [
    "gdf_joined.loc[linhas_faltantes, [\"name\", \"abbrev\"]]"
   ]
  },
  {
   "cell_type": "code",
   "execution_count": null,
   "metadata": {},
   "outputs": [],
   "source": [
    "gdf_joined.loc[linhas_faltantes, [\"name\", \"abbrev\"]].value_counts()"
   ]
  },
  {
   "cell_type": "code",
   "execution_count": null,
   "metadata": {},
   "outputs": [],
   "source": [
    "gdf_joined[\"name\"].value_counts()"
   ]
  },
  {
   "cell_type": "code",
   "execution_count": null,
   "metadata": {},
   "outputs": [],
   "source": [
    "gdf_counties.plot()"
   ]
  },
  {
   "cell_type": "code",
   "execution_count": null,
   "metadata": {},
   "outputs": [],
   "source": [
    "fig, ax = plt.subplots(figsize=(7, 7))\n",
    "\n",
    "gdf_counties.plot(\n",
    "    ax=ax,\n",
    "    edgecolor=\"black\",\n",
    ")"
   ]
  },
  {
   "cell_type": "code",
   "execution_count": null,
   "metadata": {},
   "outputs": [],
   "source": [
    "fig, ax = plt.subplots(figsize=(7, 7))\n",
    "\n",
    "gdf_counties.plot(\n",
    "    ax=ax,\n",
    "    edgecolor=\"black\",\n",
    "    color=\"lightgrey\",\n",
    ")\n",
    "\n",
    "ax.scatter(\n",
    "    gdf_joined[\"longitude\"],\n",
    "    gdf_joined[\"latitude\"],\n",
    "    color=\"red\",\n",
    "    s=1,\n",
    "    alpha=SCATTER_ALPHA\n",
    ")\n",
    "\n",
    "plt.show()"
   ]
  },
  {
   "cell_type": "code",
   "execution_count": null,
   "metadata": {},
   "outputs": [],
   "source": [
    "fig, ax = plt.subplots(figsize=(7, 7))\n",
    "\n",
    "gdf_counties.plot(\n",
    "    ax=ax,\n",
    "    edgecolor=\"black\",\n",
    "    color=\"lightgrey\",\n",
    ")\n",
    "\n",
    "ax.scatter(\n",
    "    gdf_joined[\"longitude\"],\n",
    "    gdf_joined[\"latitude\"],\n",
    "    color=\"red\",\n",
    "    s=1,\n",
    "    alpha=SCATTER_ALPHA\n",
    ")\n",
    "\n",
    "for x, y, abbrev in zip(gdf_counties[\"centroid\"].x, gdf_counties[\"centroid\"].y, gdf_counties[\"abbrev\"]):\n",
    "    ax.text(x, y, abbrev, fontsize=8, ha=\"center\", va=\"center\")\n",
    "\n",
    "plt.show()"
   ]
  },
  {
   "cell_type": "code",
   "execution_count": null,
   "metadata": {},
   "outputs": [],
   "source": [
    "gdf_joined.groupby(\"name\").median(numeric_only=True)"
   ]
  },
  {
   "cell_type": "code",
   "execution_count": null,
   "metadata": {},
   "outputs": [],
   "source": [
    "gdf_counties.head()"
   ]
  },
  {
   "cell_type": "code",
   "execution_count": null,
   "metadata": {},
   "outputs": [],
   "source": [
    "gdf_counties = gdf_counties.merge(\n",
    "    gdf_joined.groupby(\"name\").median(numeric_only=True),\n",
    "    left_on=\"name\",\n",
    "    right_index=True,\n",
    ")"
   ]
  },
  {
   "cell_type": "code",
   "execution_count": null,
   "metadata": {},
   "outputs": [],
   "source": [
    "gdf_counties.head()"
   ]
  },
  {
   "cell_type": "code",
   "execution_count": null,
   "metadata": {},
   "outputs": [],
   "source": [
    "gdf_joined[[\"name\", \"ocean_proximity\"]].groupby(\"name\").describe()"
   ]
  },
  {
   "cell_type": "code",
   "execution_count": null,
   "metadata": {},
   "outputs": [],
   "source": [
    "county_ocean_prox = gdf_joined[[\"name\", \"ocean_proximity\"]].groupby(\"name\").agg(pd.Series.mode)\n",
    "\n",
    "county_ocean_prox"
   ]
  },
  {
   "cell_type": "code",
   "execution_count": null,
   "metadata": {},
   "outputs": [],
   "source": [
    "gdf_counties = gdf_counties.merge(\n",
    "    county_ocean_prox,\n",
    "    left_on=\"name\",\n",
    "    right_index=True,\n",
    ")"
   ]
  },
  {
   "cell_type": "code",
   "execution_count": null,
   "metadata": {},
   "outputs": [],
   "source": [
    "gdf_counties.head()"
   ]
  },
  {
   "cell_type": "code",
   "execution_count": null,
   "metadata": {},
   "outputs": [],
   "source": [
    "gdf_counties.info()"
   ]
  },
  {
   "cell_type": "code",
   "execution_count": null,
   "metadata": {},
   "outputs": [],
   "source": [
    "fig, ax = plt.subplots(figsize=(7, 7))\n",
    "\n",
    "gdf_counties.plot(\n",
    "    ax=ax,\n",
    "    edgecolor=\"black\",\n",
    "    column=\"median_house_value\",\n",
    "    cmap=PALETTE,\n",
    "    legend=True,\n",
    "    legend_kwds={\"label\": \"Median house value\", \"orientation\": \"vertical\"}\n",
    ")\n",
    "\n",
    "for x, y, abbrev in zip(gdf_counties[\"centroid\"].x, gdf_counties[\"centroid\"].y, gdf_counties[\"abbrev\"]):\n",
    "    ax.text(x, y, abbrev, fontsize=8, ha=\"center\", va=\"center\")\n",
    "\n",
    "plt.show()"
   ]
  },
  {
   "cell_type": "code",
   "execution_count": null,
   "metadata": {},
   "outputs": [],
   "source": [
    "fig, ax = plt.subplots(figsize=(7, 7))\n",
    "\n",
    "gdf_counties.plot(\n",
    "    ax=ax,\n",
    "    edgecolor=\"black\",\n",
    "    column=\"median_income\",\n",
    "    cmap=PALETTE,\n",
    "    legend=True,\n",
    "    legend_kwds={\"label\": \"Median income\", \"orientation\": \"vertical\"}\n",
    ")\n",
    "\n",
    "for x, y, abbrev in zip(gdf_counties[\"centroid\"].x, gdf_counties[\"centroid\"].y, gdf_counties[\"abbrev\"]):\n",
    "    ax.text(x, y, abbrev, fontsize=8, ha=\"center\", va=\"center\")\n",
    "\n",
    "plt.show()"
   ]
  },
  {
   "cell_type": "code",
   "execution_count": null,
   "metadata": {},
   "outputs": [],
   "source": [
    "fig, ax = plt.subplots(figsize=(7, 7))\n",
    "\n",
    "gdf_counties.plot(\n",
    "    ax=ax,\n",
    "    edgecolor=\"black\",\n",
    "    column=\"housing_median_age\",\n",
    "    cmap=PALETTE,\n",
    "    legend=True,\n",
    "    legend_kwds={\"label\": \"Housing median age\", \"orientation\": \"vertical\"}\n",
    ")\n",
    "\n",
    "for x, y, abbrev in zip(gdf_counties[\"centroid\"].x, gdf_counties[\"centroid\"].y, gdf_counties[\"abbrev\"]):\n",
    "    ax.text(x, y, abbrev, fontsize=8, ha=\"center\", va=\"center\")\n",
    "\n",
    "plt.show()"
   ]
  },
  {
   "cell_type": "code",
   "execution_count": null,
   "metadata": {},
   "outputs": [],
   "source": [
    "# tome cuidado com as escalas de cores iguais\n",
    "fig, axs = plt.subplots(1, 2, figsize=(20, 7))\n",
    "\n",
    "gdf_counties.plot(\n",
    "    ax=axs[0],\n",
    "    edgecolor=\"black\",\n",
    "    column=\"median_house_value\",\n",
    "    cmap=PALETTE,\n",
    "    legend=True,\n",
    "    legend_kwds={\"label\": \"Median house value\", \"orientation\": \"vertical\"}\n",
    ")\n",
    "\n",
    "gdf_counties.plot(\n",
    "    ax=axs[1],\n",
    "    edgecolor=\"black\",\n",
    "    column=\"median_income\",\n",
    "    cmap=PALETTE,\n",
    "    legend=True,\n",
    "    legend_kwds={\"label\": \"Median income\", \"orientation\": \"vertical\"}\n",
    ")\n",
    "\n",
    "for x, y, abbrev in zip(gdf_counties[\"centroid\"].x, gdf_counties[\"centroid\"].y, gdf_counties[\"abbrev\"]):\n",
    "    axs[0].text(x, y, abbrev, fontsize=8, ha=\"center\", va=\"center\")\n",
    "    axs[1].text(x, y, abbrev, fontsize=8, ha=\"center\", va=\"center\")\n",
    "\n",
    "plt.show()"
   ]
  },
  {
   "cell_type": "code",
   "execution_count": null,
   "metadata": {},
   "outputs": [],
   "source": [
    "fig, axs = plt.subplots(1, 2, figsize=(20, 7))\n",
    "\n",
    "gdf_counties.plot(\n",
    "    ax=axs[0],\n",
    "    edgecolor=\"black\",\n",
    "    column=\"median_house_value\",\n",
    "    cmap=PALETTE,\n",
    "    legend=True,\n",
    "    legend_kwds={\"label\": \"Median house value\", \"orientation\": \"vertical\"}\n",
    ")\n",
    "\n",
    "gdf_counties.plot(\n",
    "    ax=axs[1],\n",
    "    edgecolor=\"black\",\n",
    "    column=\"median_income\",\n",
    "    cmap=\"YlOrRd\",\n",
    "    legend=True,\n",
    "    legend_kwds={\"label\": \"Median income\", \"orientation\": \"vertical\"}\n",
    ")\n",
    "\n",
    "for x, y, abbrev in zip(gdf_counties[\"centroid\"].x, gdf_counties[\"centroid\"].y, gdf_counties[\"abbrev\"]):\n",
    "    axs[0].text(x, y, abbrev, fontsize=8, ha=\"center\", va=\"center\")\n",
    "    axs[1].text(x, y, abbrev, fontsize=8, ha=\"center\", va=\"center\")\n",
    "\n",
    "plt.show()"
   ]
  },
  {
   "cell_type": "code",
   "execution_count": null,
   "metadata": {},
   "outputs": [],
   "source": [
    "gdf_counties.to_parquet(DADOS_GEO_MEDIAN)"
   ]
  },
  {
   "cell_type": "code",
   "execution_count": null,
   "metadata": {
    "editable": true,
    "slideshow": {
     "slide_type": ""
    },
    "tags": []
   },
   "outputs": [],
   "source": [
    "gdf_counties"
   ]
  }
 ],
 "metadata": {
  "kernelspec": {
   "display_name": "machine_learning",
   "language": "python",
   "name": "machine_learning"
  },
  "language_info": {
   "codemirror_mode": {
    "name": "ipython",
    "version": 3
   },
   "file_extension": ".py",
   "mimetype": "text/x-python",
   "name": "python",
   "nbconvert_exporter": "python",
   "pygments_lexer": "ipython3",
   "version": "3.12.5"
  }
 },
 "nbformat": 4,
 "nbformat_minor": 4
}
